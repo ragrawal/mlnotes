{
 "metadata": {
  "name": "",
  "signature": "sha256:927d88aebbaaeae4b72467261a6189a9c4e2ce206ad21f3ef83d1818ed446f04"
 },
 "nbformat": 3,
 "nbformat_minor": 0,
 "worksheets": [
  {
   "cells": [
    {
     "cell_type": "code",
     "collapsed": false,
     "input": [
      "from IPython.core.display import HTML\n",
      "def css_styling():\n",
      "    styles = open(\"./styles/custom.css\", \"r\").read()\n",
      "    return HTML(styles)\n",
      "css_styling()"
     ],
     "language": "python",
     "metadata": {},
     "outputs": [
      {
       "html": [
        "<style>\n",
        "    @font-face {\n",
        "        font-family: \"Computer Modern\";\n",
        "        src: url('http://9dbb143991406a7c655e-aa5fcb0a5a4ec34cff238a2d56ca4144.r56.cf5.rackcdn.com/cmunss.otf');\n",
        "    }\n",
        "    @font-face {\n",
        "        font-family: \"Computer Modern\";\n",
        "        font-weight: bold;\n",
        "        src: url('http://9dbb143991406a7c655e-aa5fcb0a5a4ec34cff238a2d56ca4144.r56.cf5.rackcdn.com/cmunsx.otf');\n",
        "    }\n",
        "    @font-face {\n",
        "        font-family: \"Computer Modern\";\n",
        "        font-style: oblique;\n",
        "        src: url('http://9dbb143991406a7c655e-aa5fcb0a5a4ec34cff238a2d56ca4144.r56.cf5.rackcdn.com/cmunsi.otf');\n",
        "    }\n",
        "    @font-face {\n",
        "        font-family: \"Computer Modern\";\n",
        "        font-weight: bold;\n",
        "        font-style: oblique;\n",
        "        src: url('http://9dbb143991406a7c655e-aa5fcb0a5a4ec34cff238a2d56ca4144.r56.cf5.rackcdn.com/cmunso.otf');\n",
        "    }\n",
        "    div.cell{\n",
        "        width:800px;\n",
        "        margin-left:16% !important;\n",
        "        margin-right:auto;\n",
        "    }\n",
        "    h1 {\n",
        "        font-family: Helvetica, serif;\n",
        "    }\n",
        "    h4{\n",
        "        margin-top:12px;\n",
        "        margin-bottom: 3px;\n",
        "       }\n",
        "    div.text_cell_render{\n",
        "        font-family: Computer Modern, \"Helvetica Neue\", Arial, Helvetica, Geneva, sans-serif;\n",
        "        line-height: 145%;\n",
        "        font-size: 130%;\n",
        "        width:800px;\n",
        "        margin-left:auto;\n",
        "        margin-right:auto;\n",
        "    }\n",
        "    .CodeMirror{\n",
        "            font-family: \"Source Code Pro\", source-code-pro,Consolas, monospace;\n",
        "    }\n",
        "    .prompt{\n",
        "        display: None;\n",
        "    }\n",
        "    .text_cell_render h5 {\n",
        "        font-weight: 300;\n",
        "        font-size: 22pt;\n",
        "        color: #4057A1;\n",
        "        font-style: italic;\n",
        "        margin-bottom: .5em;\n",
        "        margin-top: 0.5em;\n",
        "        display: block;\n",
        "    }\n",
        "    \n",
        "    .warning{\n",
        "        color: rgb( 240, 20, 20 )\n",
        "        }  \n",
        "</style>\n",
        "<script>\n",
        "    MathJax.Hub.Config({\n",
        "                        TeX: {\n",
        "                           extensions: [\"AMSmath.js\"]\n",
        "                           },\n",
        "                tex2jax: {\n",
        "                    inlineMath: [ ['$','$'], [\"\\\\(\",\"\\\\)\"] ],\n",
        "                    displayMath: [ ['$$','$$'], [\"\\\\[\",\"\\\\]\"] ]\n",
        "                },\n",
        "                displayAlign: 'center', // Change this to 'center' to center equations.\n",
        "                \"HTML-CSS\": {\n",
        "                    styles: {'.MathJax_Display': {\"margin\": 4}}\n",
        "                }\n",
        "        });\n",
        "</script>"
       ],
       "metadata": {},
       "output_type": "pyout",
       "prompt_number": 2,
       "text": [
        "<IPython.core.display.HTML at 0x110475c10>"
       ]
      }
     ],
     "prompt_number": 2
    },
    {
     "cell_type": "markdown",
     "metadata": {},
     "source": [
      "#Chapter 1: Parameter Estimation"
     ]
    },
    {
     "cell_type": "markdown",
     "metadata": {},
     "source": [
      "## 1.1 Example"
     ]
    },
    {
     "cell_type": "markdown",
     "metadata": {},
     "source": [
      "Assuming we are tasked with building a classifier that predicts gender (i.e \"male\" or \"female\") of a 20 year old person based on height of the person. One approach to build such a classifier is to use a  Bayesian approach. As per Bayesian approach, given the height of a person, the probability of the person being male is given as:\n",
      "\n",
      "$$P(Male|h) = \\frac{P(h|Male) \\times P(Male)}{P(h)}$$\n",
      "\n",
      "Similarily, probability of the person being a female is:\n",
      "\n",
      "$$P(Female|h) = \\frac{P( h|Female) \\times P(Female)}{P(h)}$$\n",
      "\n",
      "Depending upon whether $P(Male|h) \\geq P(Female|h)$ we can classify the given person as Male or Female. However without any other knowledge we cannot calculate any of the above probabilities values. In particular to calculate $P(h|Male)$ and $P(h|Female)$ we need to have some kind of knowledge of what are the typical heights of 20 year old males and females i.e. we need to know distribution of male and female heights.\n",
      "\n",
      "In order to address this challenge let's assume we randomly surveyed 1000 youths in our neighborhood and noted their heights and genders. Based on this data we can compute:.\n",
      "\n",
      "* **Prior probabilities**: Let's assume of the 1000 people surveyed, 600 turned out to be male. Then priori probability of a person being male is 0.6 ($=600/1000$) and that of a female is 0.4 ($=(1000-600)/1000$).\n",
      "* **Statistical parameters**: Let's also assume that the height of males and female is normally distributed. A normal distribution can be represented by two statistical parameters, namely 1) mean ($\\mu$) and 2) variance ($\\sigma$). Let's together represent these statistical parameters as $\\theta$. Based on our survey we can find $\\theta_{Male}$ and $\\theta_{Female}$ as\n",
      "\n",
      "$$\\theta_{Male}= [\\mu_{Male}=\\frac{\\sum_{i=1}^{600}{h_i}}{600},~~\\sigma_{Male}=\\frac{\\sum_{i=1}^{600}(h_i - \\mu_{Male})^2}{600-1}]$$ $$\\theta_{Female}= [\\mu_{Female}=\\frac{\\sum_{i=1}^{400}{h_i}}{400},~~ \\sigma_{Female}=\\frac{\\sum_{i=1}^{400}(h_i - \\mu_{Female})^2}{400-1}]$$\n",
      "\n",
      "Note that to determine statistical parameters for Male class we only considered only heights of males and similarly for female class we only considered height of females. Let's assume based on our survey we found $\\theta{Male} = [172 cm, 7cm], \\theta{Female} = [165cm, 7cm]$. Once we have $\\theta{Male}$ and $\\theta{Female}$ its easy to calculate the probability of observing some random height h. For instance probability of observing a height as large as 180 cm for a Male is 2.9% whereas for a female it is 0.5%. Since we are now representing Male class with a normal distribution having $\\theta{Male}$ we can replace $P(h|Male)$ with $P(h|\\theta{Male})$.\n",
      "\n",
      "Now lets assume we randomly selected a person and measured his/her height to be 170cm. Based on the above information we can compute compare $P(Male|170)$ to $P(Female|170)$. Since the denominator in both the cases is same we can ignore that. Thus we say if the randomly selected person is a male if\n",
      "\n",
      "$P(170|\\theta{Male}) \\times P(Male) \\geq P(170|\\theta{Female}) \\times P(Female)$\n",
      "\n",
      "$\\Rightarrow 0.0574 \\times 0.6 \\geq 0.0463 \\times 0.4$\n",
      "\n",
      "$\\Rightarrow 0.03444 \\geq 0.01852$\n",
      "\n",
      "Since above condition is true our simple classifier is likely to predict the randomly selected person as a male.\n",
      "\n",
      "This simple example highlights many challenges of pattern recognition and machine learning. Below are few of those challenges\n",
      "\n",
      "Sample Data: For building the classifier we needed sample labeled data i.e. we need few points where we knew the gender of a person and his/her height. However it is not always easy to get the sample data. For instance think about the search engine problem. When building a search engine you need some data that labels the best page for a given query. However this might be not be always possible as the same query can lead to many different pages that are best for different people.\n",
      "Nature of distribution: To simply the problem we assumed that the heights are normally distributed for the Male and Female classes. However we never tried to verify that assumption.\n",
      "Parameter Estimation: We only surveyed people in our neighborhood and based on that we estimated mean and variance. But this mean and variance will change if we survey people from another country. For instance it is well known that europeans tend to be taller as compared to asians and thus samples for europeans will yield different mean height and variance as compared to samples of asians. Thus our mean and variance are themselves random variables. There are many different techniques for estimating statistical parameters such as maximum likelihood estimate (MLE), maximum aposterior probability (MAP), bayesian estimate, etc. Different parameter estimation techniques will yield different statistical parameters (i.e $\\theta$) and thereby influence our classifier differently.\n"
     ]
    },
    {
     "cell_type": "code",
     "collapsed": false,
     "input": [],
     "language": "python",
     "metadata": {},
     "outputs": []
    },
    {
     "cell_type": "code",
     "collapsed": false,
     "input": [],
     "language": "python",
     "metadata": {},
     "outputs": []
    }
   ],
   "metadata": {}
  }
 ]
}