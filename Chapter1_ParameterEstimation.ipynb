{
 "metadata": {
  "name": "",
  "signature": "sha256:40a769cc999087d975896f22f950f481107785e7f94e5bf879889cea71584a3c"
 },
 "nbformat": 3,
 "nbformat_minor": 0,
 "worksheets": [
  {
   "cells": [
    {
     "cell_type": "code",
     "collapsed": false,
     "input": [
      "from IPython.core.display import HTML\n",
      "def css_styling():\n",
      "    styles = open(\"./styles/custom.css\", \"r\").read()\n",
      "    return HTML(styles)\n",
      "css_styling()"
     ],
     "language": "python",
     "metadata": {},
     "outputs": [
      {
       "html": [
        "<style>\n",
        "    @font-face {\n",
        "        font-family: \"Computer Modern\";\n",
        "        src: url('http://9dbb143991406a7c655e-aa5fcb0a5a4ec34cff238a2d56ca4144.r56.cf5.rackcdn.com/cmunss.otf');\n",
        "    }\n",
        "    @font-face {\n",
        "        font-family: \"Computer Modern\";\n",
        "        font-weight: bold;\n",
        "        src: url('http://9dbb143991406a7c655e-aa5fcb0a5a4ec34cff238a2d56ca4144.r56.cf5.rackcdn.com/cmunsx.otf');\n",
        "    }\n",
        "    @font-face {\n",
        "        font-family: \"Computer Modern\";\n",
        "        font-style: oblique;\n",
        "        src: url('http://9dbb143991406a7c655e-aa5fcb0a5a4ec34cff238a2d56ca4144.r56.cf5.rackcdn.com/cmunsi.otf');\n",
        "    }\n",
        "    @font-face {\n",
        "        font-family: \"Computer Modern\";\n",
        "        font-weight: bold;\n",
        "        font-style: oblique;\n",
        "        src: url('http://9dbb143991406a7c655e-aa5fcb0a5a4ec34cff238a2d56ca4144.r56.cf5.rackcdn.com/cmunso.otf');\n",
        "    }\n",
        "    div.cell{\n",
        "        width:800px;\n",
        "        margin-left:16% !important;\n",
        "        margin-right:auto;\n",
        "    }\n",
        "    h1 {\n",
        "        font-family: Helvetica, serif;\n",
        "    }\n",
        "    h4{\n",
        "        margin-top:12px;\n",
        "        margin-bottom: 3px;\n",
        "       }\n",
        "    div.text_cell_render{\n",
        "        font-family: Computer Modern, \"Helvetica Neue\", Arial, Helvetica, Geneva, sans-serif;\n",
        "        line-height: 145%;\n",
        "        font-size: 130%;\n",
        "        width:800px;\n",
        "        margin-left:auto;\n",
        "        margin-right:auto;\n",
        "    }\n",
        "    .CodeMirror{\n",
        "            font-family: \"Source Code Pro\", source-code-pro,Consolas, monospace;\n",
        "    }\n",
        "    .prompt{\n",
        "        display: None;\n",
        "    }\n",
        "    .text_cell_render h5 {\n",
        "        font-weight: 300;\n",
        "        font-size: 22pt;\n",
        "        color: #4057A1;\n",
        "        font-style: italic;\n",
        "        margin-bottom: .5em;\n",
        "        margin-top: 0.5em;\n",
        "        display: block;\n",
        "    }\n",
        "    \n",
        "    .warning{\n",
        "        color: rgb( 240, 20, 20 )\n",
        "        }  \n",
        "</style>\n",
        "<script>\n",
        "    MathJax.Hub.Config({\n",
        "                        TeX: {\n",
        "                           extensions: [\"AMSmath.js\"]\n",
        "                           },\n",
        "                tex2jax: {\n",
        "                    inlineMath: [ ['$','$'], [\"\\\\(\",\"\\\\)\"] ],\n",
        "                    displayMath: [ ['$$','$$'], [\"\\\\[\",\"\\\\]\"] ]\n",
        "                },\n",
        "                displayAlign: 'center', // Change this to 'center' to center equations.\n",
        "                \"HTML-CSS\": {\n",
        "                    styles: {'.MathJax_Display': {\"margin\": 4}}\n",
        "                }\n",
        "        });\n",
        "</script>"
       ],
       "metadata": {},
       "output_type": "pyout",
       "prompt_number": 1,
       "text": [
        "<IPython.core.display.HTML at 0x1061cd510>"
       ]
      }
     ],
     "prompt_number": 1
    },
    {
     "cell_type": "markdown",
     "metadata": {},
     "source": [
      "#Chapter 1: Parameter Estimation"
     ]
    },
    {
     "cell_type": "markdown",
     "metadata": {},
     "source": [
      "## 1.1 Classification Task\n",
      "\n",
      "Assuming we are tasked with building a classifier that predicts gender (i.e \"male\" or \"female\") based on the hieght of the 20 year old person. One approach to build such a classifier is to use a  Bayesian approach. As per Bayesian approach, given certain height $(h)$, the probability of the person being male is given as:\n",
      "\n",
      "$$P(Male|h) = \\frac{P(h|Male) \\times P(Male)}{P(h)}~~~~~~(1)$$\n",
      "\n",
      "Similarily, probability of the person being a female is:\n",
      "\n",
      "$$P(Female|h) = \\frac{P(h|Female) \\times P(Female)}{P(h)}$$\n",
      "\n",
      "Depending upon whether $P(Male|h) \\geq P(Female|h)$, we can classify the given person as Male or Female. To calculate $P(Male|h)$ and $P(Female|h)$ we need a way to estimate $P(Male)$, $P(Female)$, etc. One way to calculate these estimates is to use randomly sampled data. Let's assume we randomly surveyed 1000 youths in a given neighborhood/city and recorded individual's gender and his/her height. As discussed below, based on this randomly labeled data we can compute various aspects of the eqn 1. \n",
      "\n",
      "**1. Prior probabilities**\n",
      "\n",
      "Let's assume male and female populaion is equal. Without any other information if someone ask you to predict gender of a person then no whatever gender you choose you are likely to correct 50% of the time (think of this like a coin toss problem where you have to predict head or tail). However generally male and female population is not equally distributed. Let's assume of the 1000 people surveyed, 600 turned out to be male. Now let's assume that we are asked to come with a model to predict the gender of the person. There are three naive approaches to build such a model\n",
      "\n",
      "    1. Always predicting \"male\"\n",
      "    2. Always predicting \"Female\"\n",
      "    3. Randomly selecting one of the two categories\n",
      "\n",
      "Below we stimualate the three models and show that the best model is to always predict \"male\". This is because given just prior probabilities and no other information, it maximizes our chance to correctly predict gender. Statistically speaking we say that prior probability of \"male\" class ($P(Male) = {Number of Males}/{Population Size} = 600/1000 = 0.6$) is more than the prior probability of female class ($P(Female) = 0.4$) and hence predicting consistenly \"male\" will yield higher accuracy. \n"
     ]
    },
    {
     "cell_type": "code",
     "collapsed": false,
     "input": [
      "# Assuming we sampled 1000 individiauls and 600 of them turned out to be male\n",
      "data = [\"M\"] * 600 + [\"F\"] * 400\n",
      "numSample = 10\n",
      "\n",
      "# We use random function to randomly select individuals from the above data. \n",
      "# We fix the seed so that we can reconstruct the sample data. However feel free \n",
      "# to try remove the seed and run the cell block multiple times to verify \n",
      "# that always predicting male yields best model. \n",
      "import random\n",
      "random.seed(1) \n",
      "\n",
      "# Randomly selecting 10 individuals from the above dataset\n",
      "sample = [data[random.randint(0, 1000)] for idx in range(numSample)] # Randomly select 10 individuals\n",
      "print \"Sampled data :\", sample\n",
      "print \"Number of Males sampled: \", sample.count(\"M\")\n",
      "print \"Number of Females sampled: \", sample.count(\"F\")\n",
      "\n",
      "\n",
      "#Calculate percentage accuracy\n",
      "def accuracy(actual, predicted):\n",
      "    s = 0\n",
      "    l = len(actual)\n",
      "    for i in range(l):\n",
      "        s += (1 if actual[i] == predicted[i] else 0)\n",
      "    return float(s)/l\n",
      "\n",
      "\n",
      "#Approach 1: Always predicting male\n",
      "intToClass = [\"M\", \"F\"]\n",
      "print \"\\nScenarios:\"\n",
      "print \"1. Always Male: \", accuracy(sample, [\"M\"] * numSample )\n",
      "print \"2. Always Female: \", accuracy(sample, [\"F\"] * numSample)\n",
      "print \"3. Random: \", accuracy(sample, [intToClass[random.randint(0, 1)] for i in range(numSample)])\n",
      "\n"
     ],
     "language": "python",
     "metadata": {},
     "outputs": [
      {
       "output_type": "stream",
       "stream": "stdout",
       "text": [
        "Sampled data : ['M', 'F', 'F', 'M', 'M', 'M', 'F', 'F', 'M', 'M']\n",
        "Number of Males sampled:  6\n",
        "Number of Females sampled:  4\n",
        "\n",
        "Scenarios:\n",
        "1. Always Male:  0.6\n",
        "2. Always Female:  0.4\n",
        "3. Random:  0.5\n"
       ]
      }
     ],
     "prompt_number": 1
    },
    {
     "cell_type": "markdown",
     "metadata": {},
     "source": [
      "**2 Likelihood**\n",
      "\n",
      "Another important term in eqn 1. is the likelihood term i.e $P(h|Male)$. Likelihood indicates the probability of observing certain height $(h)$ given that its belongs to a Male. Basically the idea is that height of males and females follow certain distribution. Based on these distributions it possible to calculate the probability of a person associated with a given class based on his/her height. For instance, let's assume that the distribution of heights for both male and female is normally distributed. A normal distribution can be represented by two parameters: Mean ($\\mu$) and Standard Deviation ($\\sigma$). Generally all the parameters required to represent a distribution are clubed and represented by a single symbol $\\theta$. In school we have learnt how to calculate mean and variance given certain dataset. Mainly we have learnt that for normal distribution mean and variance is given as \n",
      "\n",
      "$$\\mu = \\sigma_{x_i}/N, \\sigma^2 = \\sigma_{(x_i - \\mu)^2}/N-1$$\n",
      "\n",
      "However, as we will discuss later, **the above computation of mean and variance make certain assumptions and these assumptions are the main point of contention that give rise to different parameter estimation techniques, namely: MAP, etc.**. \n",
      "\n",
      "But for now let's focus on likelihood and how it can help us with the classification problem. Coming back to the predicting gender problem, let's assume based on the our survey data we can estimate $\\theta_{Male}$ (i.e. mean and variance for the distribution of heights for the male class) and $\\theta_{Female}$. Table below shows some hypothetical mean and variance for the male and female class. \n",
      "\n",
      "|Gender|Mean (inch) | Standard Devation (inch) |\n",
      "|------|----|-------|--------------------------|\n",
      "| Male | 68 | 4 |\n",
      "| Female | 64 | 5 |\n",
      "\n",
      "\n",
      "Now let's assume we measured an individual's height to be 70 inches. As show in the figure below, If we plot the distribution of heights for male and female, we can easily see that the probability of a male having a height of 70 inches (i.e. $P(h|Male)$) is about 0.09. Whereas the probability of a female having a height of 70 inchdes is about 0.04. Thus based on liklihood we can classify the individual belonging to the \"Male\" class. Similarly we observe height of 55 inches then $P(h|Female) \\approx 0.0$ and $P(h|Male) \\approx 0.02$. Thus in this case we can classify the individual being as \"Female\""
     ]
    },
    {
     "cell_type": "code",
     "collapsed": false,
     "input": [
      "%matplotlib inline\n",
      "import matplotlib.pyplot as plt\n",
      "import numpy as np\n",
      "import matplotlib.mlab as mlab\n",
      "import math\n",
      "\n",
      "# Define distribution parameters for Male & Female class\n",
      "theta = {'Male': (68,4), 'Female': (64,5)} \n",
      "\n",
      "# Plot distribution\n",
      "x = np.linspace(40,100,100)\n",
      "for cls, params in theta.items():\n",
      "    plt.plot(x, mlab.normpdf(x, *params), label=cls)\n",
      "# plt.plot(x,mlab.normpdf(x,68,4), label=\"Male\")  # Plot Male Distribution\n",
      "# plt.plot(x,mlab.normpdf(x,64,5), label=\"Female\") # Plot Female Distribution\n",
      "\n",
      "# Plot 70 inches vline and annotate with p(h|Male) & p(h|Female)\n",
      "observed = 70\n",
      "plt.axvline(observed, color='black', linestyle=\"dashed\")  # Plot 70 inch marker\n",
      "for cls, params in theta.items():\n",
      "    prob = mlab.normpdf(observed, *params)\n",
      "    plt.text(observed+1, prob, \"%.2f\" % prob)\n",
      "\n",
      "# Display legend \n",
      "plt.legend()\n",
      "plt.show()"
     ],
     "language": "python",
     "metadata": {},
     "outputs": [
      {
       "metadata": {},
       "output_type": "display_data",
       "png": "[encoded data removed]",
       "text": [
        "<matplotlib.figure.Figure at 0x10ba184d0>"
       ]
      }
     ],
     "prompt_number": 5
    },
    {
     "cell_type": "markdown",
     "metadata": {},
     "source": [
      "Now that we have prior probability and likelihood, we can plug these values in eqn 1 to get $P(Male|h)$ and $P(Female|h)$. Note that we ignore $P(h)$ as its just a normalizing constant. Let's put all the above discussion in a code. "
     ]
    },
    {
     "cell_type": "code",
     "collapsed": false,
     "input": [
      "import matplotlib.mlab as mlab\n",
      "\n",
      "# classes:\n",
      "classes = ['Male', 'Female']\n",
      "\n",
      "# Prior probabilities\n",
      "prior = {'Male': 0.6, 'Female': 0.4}\n",
      "\n",
      "# Mean and SD \n",
      "theta = {'Male': (68,4), 'Female': (64,5)} \n",
      "\n",
      "\n",
      "# Classify individuals with height ranging from 61 to 67\n",
      "for observed in range(61, 67):\n",
      "        estimates = []\n",
      "        #calculate P(_|h) for each class\n",
      "        \n",
      "        for cls in classes:\n",
      "            prob = prior[cls] * mlab.normpdf(observed, *theta[cls])\n",
      "            estimates.append((cls, prob))\n",
      "        \n",
      "        # Sort estimates by value in descending order and pick top most class\n",
      "        print observed, sorted(estimates, key=lambda x: -1 * x[1])[0][0]\n",
      "            \n"
     ],
     "language": "python",
     "metadata": {},
     "outputs": [
      {
       "output_type": "stream",
       "stream": "stdout",
       "text": [
        "61 Female\n",
        "62 Female\n",
        "63 Female\n",
        "64 Male\n",
        "65 Male\n",
        "66 Male\n"
       ]
      }
     ],
     "prompt_number": 10
    },
    {
     "cell_type": "markdown",
     "metadata": {},
     "source": [
      "From above we can see that the decision boundary for our class is at 63 inchdes. For any height less than 63 inches our classifier essentially classify an individual as Female and any height more than 63 inches as male. We can further visualize this by plot the joint distribution $P(male,h)$ and $P(female,h)$ (i.e. numerator of eqn 1). "
     ]
    },
    {
     "cell_type": "code",
     "collapsed": false,
     "input": [
      "%matplotlib inline\n",
      "import matplotlib.pyplot as plt\n",
      "import numpy as np\n",
      "import matplotlib.mlab as mlab\n",
      "import math\n",
      "\n",
      "prior = {'Male': 0.6, 'Female': 0.4} # Prior probability\n",
      "theta = {'Male': (68,4), 'Female': (64,5)}  # Distribution Parameters\n",
      "\n",
      "# Plot distribution\n",
      "x = np.linspace(40,100,100)\n",
      "for cls, params in theta.items():\n",
      "    plt.plot(x, prior[cls] * mlab.normpdf(x, *params), label=cls)\n",
      "    \n",
      "plt.axvline(64, linestyle=\"dashed\", color=\"black\") # plot decision boundary\n",
      "\n",
      "# Display legend \n",
      "plt.legend()\n",
      "plt.show()"
     ],
     "language": "python",
     "metadata": {},
     "outputs": [
      {
       "metadata": {},
       "output_type": "display_data",
       "png": "[encoded data removed]",
       "text": [
        "<matplotlib.figure.Figure at 0x10b9aa590>"
       ]
      }
     ],
     "prompt_number": 14
    },
    {
     "cell_type": "markdown",
     "metadata": {},
     "source": [
      "##1.2 Parameter Estimation"
     ]
    },
    {
     "cell_type": "code",
     "collapsed": false,
     "input": [],
     "language": "python",
     "metadata": {},
     "outputs": []
    }
   ],
   "metadata": {}
  }
 ]
}